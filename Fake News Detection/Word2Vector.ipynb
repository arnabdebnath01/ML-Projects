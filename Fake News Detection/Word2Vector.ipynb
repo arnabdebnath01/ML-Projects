{
 "cells": [
  {
   "cell_type": "code",
   "execution_count": 4,
   "id": "f8410e61-d93b-40c3-a7b7-863886f1ab75",
   "metadata": {},
   "outputs": [],
   "source": [
    "from gensim.models import Word2Vec\n",
    "from sklearn.base import BaseEstimator, TransformerMixin\n",
    "import numpy as np"
   ]
  },
  {
   "cell_type": "code",
   "execution_count": 5,
   "id": "7725f0c7-3b41-439e-9fab-7fdc65d3cf84",
   "metadata": {},
   "outputs": [],
   "source": [
    "\"\"\"\n",
    "This is a class to transform text into Vector using Word2Vec library.\n",
    "\"\"\"\n",
    "\n",
    "class Word2VectorTransformer(BaseEstimator, TransformerMixin):\n",
    "    def __init__(self, vector_size=100, window=5, min_count=1, workers=4):\n",
    "        self.vector_size = vector_size\n",
    "        self.window = window\n",
    "        self.min_count = min_count\n",
    "        self.workers = workers\n",
    "        self.model = None\n",
    "\n",
    "    def fit(self, X, y=None):\n",
    "        sentences = [sentence.split() for sentence in X]\n",
    "        self.model = Word2Vec(sentences, vector_size=self.vector_size, window=self.window,\n",
    "                             min_count=self.min_count, workers=self.workers)\n",
    "        return self\n",
    "\n",
    "    def transform(self, X):\n",
    "        return np.array([self._get_feature_vector(sentence) for sentence in X])\n",
    "\n",
    "    def _get_feature_vector(self, sentence):\n",
    "        words = sentence.split()\n",
    "        words = [word for word in words if word in self.model.wv]\n",
    "        if not words:\n",
    "            return np.zeros(self.vector_size)\n",
    "        return np.mean([self.model.wv[word] for word in words], axis=0)\n",
    "    "
   ]
  },
  {
   "cell_type": "code",
   "execution_count": null,
   "id": "49964f2d-2c73-456b-95ad-508a498c93ac",
   "metadata": {},
   "outputs": [],
   "source": []
  }
 ],
 "metadata": {
  "kernelspec": {
   "display_name": "Python 3 (ipykernel)",
   "language": "python",
   "name": "python3"
  },
  "language_info": {
   "codemirror_mode": {
    "name": "ipython",
    "version": 3
   },
   "file_extension": ".py",
   "mimetype": "text/x-python",
   "name": "python",
   "nbconvert_exporter": "python",
   "pygments_lexer": "ipython3",
   "version": "3.11.7"
  }
 },
 "nbformat": 4,
 "nbformat_minor": 5
}
